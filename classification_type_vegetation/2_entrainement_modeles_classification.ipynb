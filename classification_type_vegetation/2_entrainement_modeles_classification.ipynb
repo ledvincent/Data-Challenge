{
 "cells": [
  {
   "cell_type": "markdown",
   "metadata": {},
   "source": [
    "# Packages"
   ]
  },
  {
   "cell_type": "code",
   "execution_count": 1,
   "metadata": {},
   "outputs": [],
   "source": [
    "import pandas as pd\n",
    "import numpy as np\n",
    "import matplotlib.pyplot as plt\n",
    "import seaborn as sns\n",
    "import time\n",
    "from pprint import pprint\n",
    "from prettytable import PrettyTable"
   ]
  },
  {
   "cell_type": "code",
   "execution_count": 2,
   "metadata": {},
   "outputs": [],
   "source": [
    "# sklearn\n",
    "from sklearn import datasets\n",
    "from sklearn.model_selection import train_test_split\n",
    "from sklearn.linear_model import LogisticRegression\n",
    "from sklearn.preprocessing import StandardScaler, MinMaxScaler\n",
    "from sklearn.ensemble import RandomForestClassifier, GradientBoostingClassifier, ExtraTreesClassifier\n",
    "from sklearn.compose import ColumnTransformer\n",
    "from sklearn.svm import SVC, NuSVC\n",
    "from scipy.stats import mode\n",
    "from xgboost import XGBClassifier, XGBRFClassifier\n",
    "from sklearn.metrics import accuracy_score, precision_score, recall_score, f1_score\n",
    "from sklearn.model_selection import GridSearchCV, RandomizedSearchCV, StratifiedKFold\n",
    "import lightgbm as lgb\n",
    "from catboost import CatBoostClassifier"
   ]
  },
  {
   "cell_type": "code",
   "execution_count": 12,
   "metadata": {},
   "outputs": [],
   "source": [
    "import warnings \n",
    "warnings.filterwarnings(\"ignore\")"
   ]
  },
  {
   "cell_type": "markdown",
   "metadata": {},
   "source": [
    "# Initialisation"
   ]
  },
  {
   "cell_type": "code",
   "execution_count": 3,
   "metadata": {},
   "outputs": [],
   "source": [
    "naive_sub= pd.read_csv('forest/naive_submission.csv')\n",
    "df= pd.read_csv('forest/train.csv').drop('Unnamed: 0',axis=1)\n",
    "test= pd.read_csv('forest/test.csv').drop('row_ID',axis=1)"
   ]
  },
  {
   "cell_type": "markdown",
   "metadata": {},
   "source": [
    "## Prétraitement des données"
   ]
  },
  {
   "cell_type": "code",
   "execution_count": 5,
   "metadata": {},
   "outputs": [],
   "source": [
    "# Variable qualitative ou quantitative\n",
    "# Toutes les variables sont quantitatives, à part Soil_Type et Wilderness_Area\n",
    "columns= df.columns\n",
    "quantitative_vars = columns[:10]\n",
    "qual_vars = columns[10:]\n",
    "qualitative_vars = [item.rsplit('_')[1] for item in qual_vars if item != 'Cover_Type']"
   ]
  },
  {
   "cell_type": "code",
   "execution_count": 6,
   "metadata": {},
   "outputs": [],
   "source": [
    "# Filtre les données en fonction des quantiles calculés pour chaque variable\n",
    "# Définition d'un nouveau dataframe df_filtered\n",
    "df_filtered = df.copy()\n",
    "\n",
    "for col in quantitative_vars:\n",
    "    Q3 = df_filtered[col].quantile(0.85)\n",
    "    Q1 = df_filtered[col].quantile(0.15)\n",
    "    IQR = Q3 - Q1\n",
    "    lower_bound = Q1 - 1.5 * IQR\n",
    "    upper_bound = Q3 + 1.5 * IQR\n",
    "    df_filtered = df_filtered[(df_filtered[col] >= lower_bound) & (df_filtered[col] <= upper_bound)]\n",
    "df_filtered_long = pd.melt(df_filtered, var_name='Variables', value_name='Values')"
   ]
  },
  {
   "cell_type": "markdown",
   "metadata": {},
   "source": [
    "# Classification"
   ]
  },
  {
   "cell_type": "markdown",
   "metadata": {},
   "source": [
    "## Feature scaling"
   ]
  },
  {
   "cell_type": "code",
   "execution_count": 8,
   "metadata": {},
   "outputs": [],
   "source": [
    "df_filtered = df_filtered.reset_index(drop=True)\n",
    "\n",
    "### Données one hot encoded ###\n",
    "X = df_filtered.drop('Cover_Type',axis=1)\n",
    "y = df_filtered['Cover_Type']"
   ]
  },
  {
   "cell_type": "code",
   "execution_count": 9,
   "metadata": {},
   "outputs": [],
   "source": [
    "# Normalise les données\n",
    "ct_s = ColumnTransformer(\n",
    "    transformers=[\n",
    "        ('standardize', StandardScaler(), quantitative_vars)\n",
    "    ],\n",
    "    remainder='passthrough'\n",
    ")\n",
    "\n",
    "X_ss = ct_s.fit_transform(X)\n",
    "\n",
    "# Standardise avec méthode Min-Max\n",
    "ct_m = ColumnTransformer(\n",
    "    transformers=[\n",
    "        ('standardize', MinMaxScaler(), quantitative_vars)\n",
    "    ],\n",
    "    remainder='passthrough'\n",
    ")\n",
    "\n",
    "X_mm = ct_m.fit_transform(X)"
   ]
  },
  {
   "cell_type": "markdown",
   "metadata": {},
   "source": [
    "Séparation des données train-test"
   ]
  },
  {
   "cell_type": "code",
   "execution_count": 10,
   "metadata": {},
   "outputs": [],
   "source": [
    "# Partionnement test-train\n",
    "X_train, X_test, y_train, y_test = train_test_split(X, y, test_size=0.3, random_state=42)\n",
    "X_train_ss, X_test_ss, y_train_ss, y_test_ss = train_test_split(X, y, test_size=0.3, random_state=42)\n",
    "X_train_mm, X_test_mm, y_train_mm, y_test_mm = train_test_split(X, y, test_size=0.3, random_state=42)\n",
    "\n",
    "features = X_train.columns"
   ]
  },
  {
   "cell_type": "markdown",
   "metadata": {},
   "source": [
    "## Entraînement modèles sans configuration"
   ]
  },
  {
   "cell_type": "code",
   "execution_count": 13,
   "metadata": {},
   "outputs": [],
   "source": [
    "models = {\n",
    "    \"Logistic Regression\": LogisticRegression(random_state=42, max_iter=300),\n",
    "    \"Random Forest Classifier\": RandomForestClassifier(random_state=42),\n",
    "    \"SVC\": SVC(random_state=42),\n",
    "    \"XGBoost\": XGBClassifier(),\n",
    "    \"LightGBM\": lgb.LGBMClassifier(random_state=42, verbose=0),\n",
    "    \"CatBoost\": CatBoostClassifier(random_seed=42, verbose=0),\n",
    "    \"Extra Trees Classifier\": ExtraTreesClassifier(random_state=42)\n",
    "}"
   ]
  },
  {
   "cell_type": "markdown",
   "metadata": {},
   "source": [
    "### No scaling"
   ]
  },
  {
   "cell_type": "code",
   "execution_count": 14,
   "metadata": {},
   "outputs": [
    {
     "name": "stdout",
     "output_type": "stream",
     "text": [
      "Logistic Regression\n",
      "Random Forest Classifier\n",
      "SVC\n",
      "XGBoost\n",
      "LightGBM\n",
      "CatBoost\n",
      "Extra Trees Classifier\n"
     ]
    }
   ],
   "source": [
    "accuracy_scores_default = {}\n",
    "precision_scores_default = {}\n",
    "recall_scores_default = {}\n",
    "f1_scores_default = {}\n",
    "\n",
    "for method, model in models.items():\n",
    "    print(method)\n",
    "    if method == 'SVC':\n",
    "        index = np.random.randint(0, len(X_train), 5000)\n",
    "        X_train_subset = X_train.iloc[index]\n",
    "        y_train_subset = y_train.iloc[index]\n",
    "        base_model = model.fit(X_train_subset, y_train_subset)\n",
    "    elif method == 'XGBoost':\n",
    "        # XGBoost demande à ce que les labels commencent à 0\n",
    "        base_model = model.fit(X_train, y_train-1)\n",
    "    else:\n",
    "        base_model = model.fit(X_train, y_train)\n",
    "\n",
    "    if method == 'XGBoost':\n",
    "        y_pred = base_model.predict(X_test) + 1\n",
    "    else:\n",
    "        y_pred = base_model.predict(X_test)\n",
    "    \n",
    "    # Calculate metrics correctly with y_test first\n",
    "    accuracy_scores_default[method] = accuracy_score(y_test, y_pred)\n",
    "    precision_scores_default[method] = precision_score(y_test, y_pred, average='weighted')\n",
    "    recall_scores_default[method] = recall_score(y_test, y_pred, average='weighted')\n",
    "    f1_scores_default[method] = f1_score(y_test, y_pred, average='weighted')"
   ]
  },
  {
   "cell_type": "markdown",
   "metadata": {},
   "source": [
    "### Données normalisées"
   ]
  },
  {
   "cell_type": "code",
   "execution_count": 15,
   "metadata": {},
   "outputs": [
    {
     "name": "stdout",
     "output_type": "stream",
     "text": [
      "Logistic Regression\n",
      "Random Forest Classifier\n",
      "SVC\n",
      "XGBoost\n",
      "LightGBM\n",
      "CatBoost\n",
      "Extra Trees Classifier\n"
     ]
    }
   ],
   "source": [
    "# Sur données Standardisées\n",
    "\n",
    "accuracy_scores_default_ss = {}\n",
    "precision_scores_default_ss = {}\n",
    "recall_scores_default_ss = {}\n",
    "f1_scores_default_ss = {}\n",
    "\n",
    "for method, model in models.items():\n",
    "    print(method)\n",
    "    if method == 'SVC':\n",
    "        index = np.random.randint(0, len(X_train_ss), 5000)\n",
    "        X_train_subset = X_train_ss.iloc[index]\n",
    "        y_train_subset = y_train.iloc[index]\n",
    "        base_model = model.fit(X_train_subset, y_train_subset)\n",
    "    elif method == 'XGBoost':\n",
    "        # XGBoost demande à ce que les labels commencent à 0\n",
    "        base_model = model.fit(X_train_ss, y_train-1)\n",
    "    else:\n",
    "        base_model = model.fit(X_train_ss, y_train)\n",
    "\n",
    "    if method == 'XGBoost':\n",
    "        y_pred = base_model.predict(X_test_ss) + 1\n",
    "    else:\n",
    "        y_pred = base_model.predict(X_test_ss)\n",
    "    \n",
    "    # Calculate metrics correctly with y_test first\n",
    "    accuracy_scores_default_ss[method] = accuracy_score(y_test, y_pred)\n",
    "    precision_scores_default_ss[method] = precision_score(y_test, y_pred, average='weighted')\n",
    "    recall_scores_default_ss[method] = recall_score(y_test, y_pred, average='weighted')\n",
    "    f1_scores_default_ss[method] = f1_score(y_test, y_pred, average='weighted')"
   ]
  },
  {
   "cell_type": "markdown",
   "metadata": {},
   "source": [
    "### Données Min-Max"
   ]
  },
  {
   "cell_type": "code",
   "execution_count": 16,
   "metadata": {},
   "outputs": [
    {
     "name": "stdout",
     "output_type": "stream",
     "text": [
      "Logistic Regression\n",
      "Random Forest Classifier\n",
      "SVC\n",
      "XGBoost\n",
      "LightGBM\n",
      "CatBoost\n",
      "Extra Trees Classifier\n"
     ]
    }
   ],
   "source": [
    "# Sur données Min-Max\n",
    "\n",
    "accuracy_scores_default_mm = {}\n",
    "precision_scores_default_mm = {}\n",
    "recall_scores_default_mm = {}\n",
    "f1_scores_default_mm = {}\n",
    "\n",
    "for method, model in models.items():\n",
    "    print(method)\n",
    "    if method == 'SVC':\n",
    "        index = np.random.randint(0, len(X_train_mm), 5000)\n",
    "        X_train_subset = X_train_mm.iloc[index]\n",
    "        y_train_subset = y_train.iloc[index]\n",
    "        base_model = model.fit(X_train_subset, y_train_subset)\n",
    "    elif method == 'XGBoost':\n",
    "        # XGBoost demande à ce que les labels commencent à 0\n",
    "        base_model = model.fit(X_train_mm, y_train-1)\n",
    "    else:\n",
    "        base_model = model.fit(X_train_mm, y_train)\n",
    "\n",
    "    if method == 'XGBoost':\n",
    "        y_pred = base_model.predict(X_test_mm) + 1\n",
    "    else:\n",
    "        y_pred = base_model.predict(X_test_mm)\n",
    "    \n",
    "    # Calculate metrics correctly with y_test first\n",
    "    accuracy_scores_default_mm[method] = accuracy_score(y_test, y_pred)\n",
    "    precision_scores_default_mm[method] = precision_score(y_test, y_pred, average='weighted')\n",
    "    recall_scores_default_mm[method] = recall_score(y_test, y_pred, average='weighted')\n",
    "    f1_scores_default_mm[method] = f1_score(y_test, y_pred, average='weighted')"
   ]
  },
  {
   "cell_type": "markdown",
   "metadata": {},
   "source": [
    "## Performances et comparaisons"
   ]
  },
  {
   "cell_type": "code",
   "execution_count": 17,
   "metadata": {},
   "outputs": [
    {
     "name": "stdout",
     "output_type": "stream",
     "text": [
      "+--------------------------+--------------------+--------------------+--------------------+--------------------+\n",
      "|          Model           |      Accuracy      |     Precision      |       Recall       |         F1         |\n",
      "+--------------------------+--------------------+--------------------+--------------------+--------------------+\n",
      "|   Logistic Regression    | 0.6545411236260932 | 0.6086747607336331 | 0.6545411236260932 | 0.6261066991230017 |\n",
      "| Random Forest Classifier | 0.8947153503249736 | 0.8951865085319086 | 0.8947153503249736 | 0.893256342728321  |\n",
      "|           SVC            | 0.6836015925409195 | 0.624392907370442  | 0.6836015925409195 | 0.6524697210663812 |\n",
      "|         XGBoost          | 0.8579984346820022 | 0.8577930320272416 | 0.8579984346820022 | 0.8567357943841082 |\n",
      "|         LightGBM         | 0.8499676727804811 | 0.8498345433809557 | 0.8499676727804811 | 0.8490002856606078 |\n",
      "|         CatBoost         | 0.8604484976350086 | 0.8601471258548066 | 0.8604484976350086 | 0.8590243688495524 |\n",
      "|  Extra Trees Classifier  |  0.89903698914486  | 0.8992046743774454 |  0.89903698914486  | 0.8979030354903415 |\n",
      "+--------------------------+--------------------+--------------------+--------------------+--------------------+\n",
      "+--------------------------+--------------------+--------------------+--------------------+--------------------+\n",
      "|          Model           |      Accuracy      |     Precision      |       Recall       |         F1         |\n",
      "+--------------------------+--------------------+--------------------+--------------------+--------------------+\n",
      "|   Logistic Regression    | 0.6545411236260932 | 0.6086747607336331 | 0.6545411236260932 | 0.6261066991230017 |\n",
      "| Random Forest Classifier | 0.8947153503249736 | 0.8951865085319086 | 0.8947153503249736 | 0.893256342728321  |\n",
      "|           SVC            | 0.685711368972675  | 0.6255700272948974 | 0.685711368972675  | 0.6529335064418204 |\n",
      "|         XGBoost          | 0.8579984346820022 | 0.8577930320272416 | 0.8579984346820022 | 0.8567357943841082 |\n",
      "|         LightGBM         | 0.8499676727804811 | 0.8498345433809557 | 0.8499676727804811 | 0.8490002856606078 |\n",
      "|         CatBoost         | 0.8604484976350086 | 0.8601471258548066 | 0.8604484976350086 | 0.8590243688495524 |\n",
      "|  Extra Trees Classifier  |  0.89903698914486  | 0.8992046743774454 |  0.89903698914486  | 0.8979030354903415 |\n",
      "+--------------------------+--------------------+--------------------+--------------------+--------------------+\n",
      "+--------------------------+--------------------+--------------------+--------------------+--------------------+\n",
      "|          Model           |      Accuracy      |     Precision      |       Recall       |         F1         |\n",
      "+--------------------------+--------------------+--------------------+--------------------+--------------------+\n",
      "|   Logistic Regression    | 0.6545411236260932 | 0.6086747607336331 | 0.6545411236260932 | 0.6261066991230017 |\n",
      "| Random Forest Classifier | 0.8947153503249736 | 0.8951865085319086 | 0.8947153503249736 | 0.893256342728321  |\n",
      "|           SVC            | 0.6826147616292919 | 0.622859141560541  | 0.6826147616292919 | 0.6509870619353381 |\n",
      "|         XGBoost          | 0.8579984346820022 | 0.8577930320272416 | 0.8579984346820022 | 0.8567357943841082 |\n",
      "|         LightGBM         | 0.8499676727804811 | 0.8498345433809557 | 0.8499676727804811 | 0.8490002856606078 |\n",
      "|         CatBoost         | 0.8604484976350086 | 0.8601471258548066 | 0.8604484976350086 | 0.8590243688495524 |\n",
      "|  Extra Trees Classifier  |  0.89903698914486  | 0.8992046743774454 |  0.89903698914486  | 0.8979030354903415 |\n",
      "+--------------------------+--------------------+--------------------+--------------------+--------------------+\n"
     ]
    }
   ],
   "source": [
    "# Toutes les métriques\n",
    "table = PrettyTable()\n",
    "\n",
    "table.field_names = ['Model', 'Accuracy', 'Precision', 'Recall', 'F1']\n",
    "\n",
    "for model in accuracy_scores_default.keys():\n",
    "    table.add_row([model, accuracy_scores_default.get(model, '-'), precision_scores_default.get(model, '-'), recall_scores_default.get(model, '-'), f1_scores_default.get(model, '-')])\n",
    "\n",
    "# Print the table\n",
    "print(table)\n",
    "\n",
    "table = PrettyTable()\n",
    "\n",
    "table.field_names = ['Model', 'Accuracy', 'Precision', 'Recall', 'F1']\n",
    "\n",
    "for model in accuracy_scores_default_ss.keys():\n",
    "    table.add_row([model, accuracy_scores_default_ss.get(model, '-'), precision_scores_default_ss.get(model, '-'), recall_scores_default_ss.get(model, '-'), f1_scores_default_ss.get(model, '-')])\n",
    "\n",
    "# Print the table\n",
    "print(table)\n",
    "\n",
    "table = PrettyTable()\n",
    "\n",
    "table.field_names = ['Model', 'Accuracy', 'Precision', 'Recall', 'F1']\n",
    "\n",
    "for model in accuracy_scores_default_mm.keys():\n",
    "    table.add_row([model, accuracy_scores_default_mm.get(model, '-'), precision_scores_default_mm.get(model, '-'), recall_scores_default_mm.get(model, '-'), f1_scores_default_mm.get(model, '-')])\n",
    "\n",
    "# Print the table\n",
    "print(table)"
   ]
  },
  {
   "cell_type": "code",
   "execution_count": 18,
   "metadata": {},
   "outputs": [
    {
     "data": {
      "image/png": "[encoded data removed]",
      "text/plain": [
       "<Figure size 500x250 with 1 Axes>"
      ]
     },
     "metadata": {},
     "output_type": "display_data"
    }
   ],
   "source": [
    "# Comparaison du accuracy score\n",
    "accuracy_scores_default_all = [accuracy_scores_default.values(), accuracy_scores_default_ss.values(), accuracy_scores_default_mm.values()]\n",
    "accuracy_scores_default_all = np.array([np.round(list(i),3) for i in accuracy_scores_default_all]).T\n",
    "\n",
    "# Plot\n",
    "fig, ax = plt.subplots(figsize=(5, 2.5)) \n",
    "ax.axis('off')\n",
    "\n",
    "the_table = ax.table(cellText=accuracy_scores_default_all, colLabels=['No scaling', 'Standard scaling', 'Min-Max scaling'], rowLabels=list(models.keys()), loc='center',cellLoc='center')\n",
    "plt.title('Comparaison des accuracy score')\n",
    "\n",
    "plt.show()"
   ]
  },
  {
   "cell_type": "code",
   "execution_count": 19,
   "metadata": {},
   "outputs": [
    {
     "data": {
      "image/png": "[encoded data removed]",
      "text/plain": [
       "<Figure size 500x250 with 1 Axes>"
      ]
     },
     "metadata": {},
     "output_type": "display_data"
    }
   ],
   "source": [
    "# Comparaison du f1 score\n",
    "f1_scores_default_all = [f1_scores_default.values(), f1_scores_default_ss.values(), f1_scores_default_mm.values()]\n",
    "f1_scores_default_all = np.array([np.round(list(i),3) for i in f1_scores_default_all]).T\n",
    "\n",
    "# Plot\n",
    "fig, ax = plt.subplots(figsize=(5, 2.5))\n",
    "ax.axis('off')\n",
    "\n",
    "the_table = ax.table(cellText=f1_scores_default_all, colLabels=['No scaling', 'Standard scaling', 'Min-Max scaling'], rowLabels=list(models.keys()), loc='center',cellLoc='center')\n",
    "plt.title('Comparaison des f1 score')\n",
    "\n",
    "plt.show()"
   ]
  }
 ],
 "metadata": {
  "kernelspec": {
   "display_name": "m2",
   "language": "python",
   "name": "python3"
  },
  "language_info": {
   "codemirror_mode": {
    "name": "ipython",
    "version": 3
   },
   "file_extension": ".py",
   "mimetype": "text/x-python",
   "name": "python",
   "nbconvert_exporter": "python",
   "pygments_lexer": "ipython3",
   "version": "3.12.7"
  }
 },
 "nbformat": 4,
 "nbformat_minor": 2
}
