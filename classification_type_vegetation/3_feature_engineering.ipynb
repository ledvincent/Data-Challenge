{
 "cells": [
  {
   "cell_type": "markdown",
   "metadata": {},
   "source": [
    "# Packages"
   ]
  },
  {
   "cell_type": "code",
   "execution_count": 1,
   "metadata": {},
   "outputs": [],
   "source": [
    "# Packages\n",
    "import pandas as pd\n",
    "import numpy as np\n",
    "import matplotlib.pyplot as plt\n",
    "import seaborn as sns\n",
    "import time\n",
    "from pprint import pprint\n",
    "from prettytable import PrettyTable"
   ]
  },
  {
   "cell_type": "code",
   "execution_count": 2,
   "metadata": {},
   "outputs": [],
   "source": [
    "# sklearn\n",
    "from sklearn import datasets\n",
    "from sklearn.model_selection import train_test_split\n",
    "from sklearn.linear_model import LogisticRegression\n",
    "from sklearn.preprocessing import StandardScaler, MinMaxScaler\n",
    "from sklearn.ensemble import RandomForestClassifier, GradientBoostingClassifier, ExtraTreesClassifier\n",
    "from sklearn.compose import ColumnTransformer\n",
    "from sklearn.svm import SVC, NuSVC\n",
    "from scipy.stats import mode\n",
    "from xgboost import XGBClassifier, XGBRFClassifier\n",
    "from sklearn.metrics import accuracy_score, precision_score, recall_score, f1_score\n",
    "from sklearn.model_selection import GridSearchCV, RandomizedSearchCV, StratifiedKFold\n",
    "import lightgbm as lgb\n",
    "from catboost import CatBoostClassifier\n",
    "import warnings \n",
    "warnings.filterwarnings(\"ignore\")"
   ]
  },
  {
   "cell_type": "markdown",
   "metadata": {},
   "source": [
    "# Initialisation"
   ]
  },
  {
   "cell_type": "code",
   "execution_count": 3,
   "metadata": {},
   "outputs": [],
   "source": [
    "# Initialisation\n",
    "naive_sub= pd.read_csv('forest/naive_submission.csv')\n",
    "df= pd.read_csv('forest/train.csv').drop('Unnamed: 0',axis=1)\n",
    "test= pd.read_csv('forest/test.csv').drop('row_ID',axis=1)"
   ]
  },
  {
   "cell_type": "markdown",
   "metadata": {},
   "source": [
    "## Prétraitement des données"
   ]
  },
  {
   "cell_type": "code",
   "execution_count": 16,
   "metadata": {},
   "outputs": [],
   "source": [
    "# Prétraitement des données\n",
    "# Variable qualitative ou quantitative\n",
    "# Toutes les variables sont quantitatives, à part Soil_Type et Wilderness_Area\n",
    "columns= df.columns\n",
    "quantitative_vars = columns[:10]\n",
    "qual_vars = columns[10:]\n",
    "qualitative_vars = [item.rsplit('_')[1] for item in qual_vars if item != 'Cover_Type']\n",
    "\n",
    "# Filtre les données en fonction des quantiles calculés pour chaque variable\n",
    "# Définition d'un nouveau dataframe df_filtered\n",
    "df_filtered = df.copy()\n",
    "\n",
    "for col in quantitative_vars:\n",
    "    Q3 = df_filtered[col].quantile(0.85)\n",
    "    Q1 = df_filtered[col].quantile(0.15)\n",
    "    IQR = Q3 - Q1\n",
    "    lower_bound = Q1 - 1.5 * IQR\n",
    "    upper_bound = Q3 + 1.5 * IQR\n",
    "    df_filtered = df_filtered[(df_filtered[col] >= lower_bound) & (df_filtered[col] <= upper_bound)]\n",
    "df_filtered = df_filtered.drop('Soil_Type15',axis=1)\n",
    "df_filtered_long = pd.melt(df_filtered, var_name='Variables', value_name='Values')"
   ]
  },
  {
   "cell_type": "markdown",
   "metadata": {},
   "source": [
    "# Feature engineering"
   ]
  },
  {
   "cell_type": "code",
   "execution_count": 17,
   "metadata": {},
   "outputs": [],
   "source": [
    "df_fe = pd.DataFrame()"
   ]
  },
  {
   "cell_type": "markdown",
   "metadata": {},
   "source": [
    "### Nouvelles variables"
   ]
  },
  {
   "cell_type": "code",
   "execution_count": 18,
   "metadata": {},
   "outputs": [],
   "source": [
    "# Distance to hydrology\n",
    "df_fe['Distance_To_Hydrology'] = np.sqrt(df_filtered['Horizontal_Distance_To_Hydrology']**2 + df_filtered['Vertical_Distance_To_Hydrology']**2)\n",
    "df_fe['Distance_To_Hydrology'] = df_fe['Distance_To_Hydrology'].astype(float)"
   ]
  },
  {
   "cell_type": "code",
   "execution_count": 19,
   "metadata": {},
   "outputs": [],
   "source": [
    "# Elevation to Aspect\n",
    "df_fe['Elevation_Aspect'] = df_filtered['Elevation']*np.sin(np.radians(df_filtered['Aspect']))\n",
    "df_fe['Elevation_Aspect'] = df_fe['Elevation_Aspect'].astype(float)"
   ]
  },
  {
   "cell_type": "code",
   "execution_count": 20,
   "metadata": {},
   "outputs": [],
   "source": [
    "# Entrainement d'un modèle basé sur Soil Type et Wilderness Area\n",
    "\n",
    "# Encode `Soil_Type` et `Wilderness_Area` comme une catégorie\n",
    "soil_columns = [col for col in df_filtered.columns if col.startswith('Soil_Type')]\n",
    "area_columns = [col for col in df_filtered.columns if col.startswith('Wilderness_Area')]\n",
    "X_sw = df_filtered[soil_columns+area_columns]\n",
    "y_sw = df_filtered['Cover_Type']\n",
    "\n",
    "model_sw = RandomForestClassifier(random_state=42)\n",
    "model_sw.fit(X_sw, y_sw)\n",
    "\n",
    "df_fe['Soil_Wilderness_Predict'] = model_sw.predict(X_sw)\n",
    "df_fe['Soil_Wilderness_Predict'] = df_fe['Soil_Wilderness_Predict'].astype(str)\n",
    "df_fe['Soil_Wilderness_Predict'] = df_fe['Soil_Wilderness_Predict'].astype('category')"
   ]
  },
  {
   "cell_type": "markdown",
   "metadata": {},
   "source": [
    "### Concaténation et normalisation des données"
   ]
  },
  {
   "cell_type": "code",
   "execution_count": 21,
   "metadata": {},
   "outputs": [],
   "source": [
    "ct_s2 = ColumnTransformer(\n",
    "    transformers=[\n",
    "        ('standardize', StandardScaler(), ['Distance_To_Hydrology', 'Elevation_Aspect'])\n",
    "    ],\n",
    "    remainder='passthrough'\n",
    ")\n",
    "\n",
    "ct_s = ColumnTransformer(\n",
    "    transformers=[\n",
    "        ('standardize', StandardScaler(), quantitative_vars)\n",
    "    ],\n",
    "    remainder='passthrough'\n",
    ")\n",
    "\n",
    "# Normalisation\n",
    "df_fe_ss = ct_s2.fit_transform(df_fe)\n",
    "df_fe_ss = pd.DataFrame(df_fe_ss, columns=df_fe.columns)\n",
    "\n",
    "df_filtered_ss = ct_s.fit_transform(df_filtered)\n",
    "df_filtered_ss = pd.DataFrame(df_filtered_ss, columns=df_filtered.columns)\n",
    "\n",
    "# Convertir en numérique les colonnes qui devraient l'être\n",
    "cols_to_numeric = ['Distance_To_Hydrology', 'Elevation_Aspect']\n",
    "for col in cols_to_numeric:\n",
    "    df_fe_ss[col] = pd.to_numeric(df_fe_ss[col], errors='coerce')\n",
    "\n",
    "# Convertir les autres colonnes en type \"category\" pour les colonnes catégorielles\n",
    "cols_to_category = ['Soil_Wilderness_Predict']\n",
    "for col in cols_to_category:\n",
    "    df_fe_ss[col] = df_fe_ss[col].astype('category')\n",
    "\n",
    "# Concanténation\n",
    "df_filtered_ss = df_filtered_ss.join(df_fe_ss)"
   ]
  },
  {
   "cell_type": "markdown",
   "metadata": {},
   "source": [
    "### Importance des nouvelles variables"
   ]
  },
  {
   "cell_type": "code",
   "execution_count": 22,
   "metadata": {},
   "outputs": [],
   "source": [
    "# Creation du dataframe decoded (varaibles qualitatives ne sont plus one hot encoded)\n",
    "df_fe2 = df_filtered_ss.copy()\n",
    "df_fe2.columns\n",
    "soil_columns = [col for col in df_fe2.columns if col.startswith('Soil_Type')]\n",
    "area_columns = [col for col in df_fe2.columns if col.startswith('Wilderness_Area')]\n",
    "\n",
    "df_fe2['Soil_Type'] = np.argmax(df_fe2[soil_columns].values, axis=1)\n",
    "df_fe2['Wilderness_Area'] = np.argmax(df_fe2[area_columns].values, axis=1)\n",
    "\n",
    "# Type catégorie pour pas confondre avec des entiers\n",
    "df_fe2['Soil_Type'] = df_fe2['Soil_Type'].astype('category')\n",
    "df_fe2['Wilderness_Area'] = df_fe2['Wilderness_Area'].astype('category')\n",
    "\n",
    "# Supprimer les anciennes colonnes one-hot encodées\n",
    "df_fe2 = df_fe2.drop(columns=soil_columns+area_columns)"
   ]
  },
  {
   "cell_type": "code",
   "execution_count": 23,
   "metadata": {},
   "outputs": [
    {
     "data": {
      "text/plain": [
       "Text(0.5, 0, 'Importance')"
      ]
     },
     "execution_count": 23,
     "metadata": {},
     "output_type": "execute_result"
    },
    {
     "data": {
      "image/png": "[encoded data removed]",
      "text/plain": [
       "<Figure size 640x480 with 1 Axes>"
      ]
     },
     "metadata": {},
     "output_type": "display_data"
    }
   ],
   "source": [
    "# Entrainer un modele de Random Forest\n",
    "X_fe = df_fe2.drop('Cover_Type',axis=1)\n",
    "y_fe = df_fe2['Cover_Type']\n",
    "\n",
    "rfc_model = RandomForestClassifier()\n",
    "rfc_model.fit(X_fe, y_fe)\n",
    "imp = rfc_model.feature_importances_\n",
    "forest_imp = pd.Series(imp, index = X_fe.columns)\n",
    "forest_imp = forest_imp.sort_values(ascending=False)\n",
    "\n",
    "# Plot les importances\n",
    "fig = plt.figure()\n",
    "\n",
    "forest_imp.plot.barh()\n",
    "plt.title('Random Forest Feature Importances')\n",
    "plt.xlabel('Importance')"
   ]
  },
  {
   "cell_type": "markdown",
   "metadata": {},
   "source": [
    "### Fonction qui applique toutes les transformations"
   ]
  },
  {
   "cell_type": "code",
   "execution_count": 24,
   "metadata": {},
   "outputs": [],
   "source": [
    "def dataframe_fe(df, model_sw, ct_s, ct_s2):\n",
    "    # Input\n",
    "    # model_sw : Modele pour predire Cover type a partir de Soil Type et Wilderness Area\n",
    "    # ct_s : normalisation utilisé sur donnees train\n",
    "    # ct_s2 : normalisation utilisé sur donnees train feature engineering\n",
    "\n",
    "    # Output\n",
    "    # df_filtered_ss: variables one hot encoded\n",
    "    # df_filtered_ss: variable soil type n'est plus one hot encode\n",
    "\n",
    "    df_fe = pd.DataFrame()\n",
    "    df = df.drop('Soil_Type15', axis=1)\n",
    "    \n",
    "    # Distance to hydrology\n",
    "    df_fe['Distance_To_Hydrology'] = np.sqrt(df['Horizontal_Distance_To_Hydrology']**2 + df['Vertical_Distance_To_Hydrology']**2)\n",
    "    df_fe['Distance_To_Hydrology'] = df_fe['Distance_To_Hydrology'].astype(float)\n",
    "\n",
    "    # Elevation to Aspect\n",
    "    df_fe['Elevation_Aspect'] = df['Elevation']*np.sin(np.radians(df['Aspect']))\n",
    "    df_fe['Elevation_Aspect'] = df_fe['Elevation_Aspect'].astype(float)\n",
    "\n",
    "    # Entrainement d'un modèle basé sur Soil Type et Wilderness Area\n",
    "    # Encode `Soil_Type` et `Wilderness_Area` comme des catégories\n",
    "    soil_columns = [col for col in df.columns if col.startswith('Soil_Type')]\n",
    "    area_columns = [col for col in df.columns if col.startswith('Wilderness_Area')]\n",
    "    X_sw = df[soil_columns+area_columns]\n",
    "\n",
    "    df_fe['Soil_Wilderness_Predict'] = model_sw.predict(X_sw)\n",
    "    df_fe['Soil_Wilderness_Predict'] = df_fe['Soil_Wilderness_Predict'].astype(str)\n",
    "    df_fe['Soil_Wilderness_Predict'] = df_fe['Soil_Wilderness_Predict'].astype('category')\n",
    "\n",
    "    # Normalisation\n",
    "    df_fe_ss = ct_s2.fit_transform(df_fe)\n",
    "    df_fe_ss = pd.DataFrame(df_fe_ss, columns=df_fe.columns)\n",
    "\n",
    "    # Convertir en numérique les colonnes qui devraient l'être\n",
    "    cols_to_numeric = ['Distance_To_Hydrology', 'Elevation_Aspect']\n",
    "    for col in cols_to_numeric:\n",
    "        df_fe_ss[col] = pd.to_numeric(df_fe_ss[col], errors='coerce')\n",
    "\n",
    "    # Convertir les autres colonnes en type \"category\" pour les colonnes catégorielles\n",
    "    cols_to_category = ['Soil_Wilderness_Predict']\n",
    "    for col in cols_to_category:\n",
    "        df_fe_ss[col] = df_fe_ss[col].astype('category')\n",
    "\n",
    "    # Transformé les données\n",
    "    df_filtered_ss = ct_s.fit_transform(df)\n",
    "    df_filtered_ss = pd.DataFrame(df_filtered_ss, columns=df.columns)\n",
    "    df_filtered_ss = df_filtered_ss.join(df_fe_ss)\n",
    "\n",
    "    ### Données pour laquelle la variable Soil_Type est décodée ###\n",
    "    df_filtered_ss2 = df_filtered_ss.copy()\n",
    "\n",
    "    soil_columns = [col for col in df_filtered_ss2.columns if col.startswith('Soil_Type')]\n",
    "\n",
    "    df_filtered_ss2['Soil_Type'] = np.argmax(df_filtered_ss2[soil_columns].values, axis=1)\n",
    "\n",
    "    # Type catégorie pour pas confondre avec des entiers\n",
    "    df_filtered_ss2['Soil_Type'] = df_filtered_ss2['Soil_Type'].astype('category')\n",
    "\n",
    "    # Supprimer les anciennes colonnes one-hot encodées\n",
    "    df_filtered_ss2 = df_filtered_ss2.drop(columns=soil_columns)\n",
    "\n",
    "    return df_filtered_ss, df_filtered_ss2"
   ]
  },
  {
   "cell_type": "code",
   "execution_count": null,
   "metadata": {},
   "outputs": [],
   "source": []
  }
 ],
 "metadata": {
  "kernelspec": {
   "display_name": "m2",
   "language": "python",
   "name": "python3"
  },
  "language_info": {
   "codemirror_mode": {
    "name": "ipython",
    "version": 3
   },
   "file_extension": ".py",
   "mimetype": "text/x-python",
   "name": "python",
   "nbconvert_exporter": "python",
   "pygments_lexer": "ipython3",
   "version": "3.12.7"
  }
 },
 "nbformat": 4,
 "nbformat_minor": 2
}
