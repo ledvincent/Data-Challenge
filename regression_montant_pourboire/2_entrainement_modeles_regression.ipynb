{
 "cells": [
  {
   "cell_type": "markdown",
   "metadata": {},
   "source": [
    "# Packages"
   ]
  },
  {
   "cell_type": "code",
   "execution_count": 2,
   "metadata": {},
   "outputs": [],
   "source": [
    "import pandas as pd\n",
    "import numpy as np\n",
    "import matplotlib.pyplot as plt\n",
    "import seaborn as sns\n",
    "import time\n",
    "from prettytable import PrettyTable"
   ]
  },
  {
   "cell_type": "code",
   "execution_count": 3,
   "metadata": {},
   "outputs": [],
   "source": [
    "# sklearn\n",
    "from sklearn import datasets\n",
    "from sklearn.model_selection import train_test_split\n",
    "from sklearn.linear_model import ElasticNet\n",
    "from sklearn.preprocessing import StandardScaler, MinMaxScaler, LabelEncoder\n",
    "from sklearn.ensemble import RandomForestRegressor, ExtraTreesRegressor, GradientBoostingRegressor\n",
    "from sklearn.svm import SVR\n",
    "from sklearn.cluster import KMeans\n",
    "from sklearn.compose import ColumnTransformer\n",
    "from scipy.stats import mode\n",
    "from xgboost import XGBRegressor\n",
    "from lightgbm import LGBMRegressor\n",
    "from catboost import CatBoostRegressor\n",
    "from sklearn.cross_decomposition import PLSRegression\n",
    "from sklearn.metrics import mean_squared_error, mean_absolute_error, r2_score, max_error\n",
    "from sklearn.model_selection import GridSearchCV, RandomizedSearchCV"
   ]
  },
  {
   "cell_type": "code",
   "execution_count": 4,
   "metadata": {},
   "outputs": [],
   "source": [
    "import warnings\n",
    "warnings.filterwarnings('ignore')"
   ]
  },
  {
   "cell_type": "markdown",
   "metadata": {},
   "source": [
    "# Initialisation"
   ]
  },
  {
   "cell_type": "code",
   "execution_count": 6,
   "metadata": {},
   "outputs": [],
   "source": [
    "naive_sub= pd.read_parquet('taxi/naive_submission.parquet')\n",
    "df= pd.read_parquet('taxi/train.parquet')\n",
    "test= pd.read_parquet('taxi/test.parquet')"
   ]
  },
  {
   "cell_type": "markdown",
   "metadata": {},
   "source": [
    "# Préparation des données"
   ]
  },
  {
   "cell_type": "code",
   "execution_count": 8,
   "metadata": {},
   "outputs": [],
   "source": [
    "columns = list(df.columns)\n",
    "# Variable qualitative ou quantitative\n",
    "quantitative_vars = ['passenger_count','trip_distance', 'PU_location_lat', 'PU_location_lon', 'DO_location_lat', 'DO_location_lon', 'fare_amount', 'tolls_amount', 'extra']\n",
    "qualitative_vars = ['VendorID', 'tpep_pickup_datetime', 'tpep_dropoff_datetime', 'RatecodeID', 'store_and_fwd_flag', 'payment_type', 'mta_tax', 'improvement_surcharge', 'congestion_surcharge', 'Airport_fee']\n",
    "variable_cible = 'tip_amount'\n",
    "\n",
    "\n",
    "# Supprime observation nombre de passagers = 8 de nos données\n",
    "# Nous définissons un nouveau dataframe sur lequel nous faisons des transformations\n",
    "df_filtered = df.copy()\n",
    "index_8 = df_filtered[df_filtered['passenger_count']==7].index\n",
    "df_filtered = df_filtered.drop(index_8, axis=0)\n",
    "\n",
    "# Convertir en numérique les colonnes qui devraient l'être\n",
    "for col in quantitative_vars:\n",
    "    df_filtered[col] = pd.to_numeric(df_filtered[col], errors='coerce')\n",
    "\n",
    "for col in qualitative_vars:\n",
    "    df_filtered[col] = df_filtered[col].astype('category')\n",
    "\n",
    "# Variable binaire\n",
    "for col in ['store_and_fwd_flag','VendorID', 'mta_tax', 'congestion_surcharge', 'Airport_fee']:\n",
    "    df_filtered[col] = pd.factorize(df_filtered[col])[0] + 1\n",
    "\n",
    "# Variable improvement surcharge\n",
    "df_filtered['improvement_surcharge'] = pd.factorize(df_filtered['improvement_surcharge'])[0] + 1\n",
    "\n",
    "# RatecodeID en entiers\n",
    "df_filtered['RatecodeID'] = df_filtered['RatecodeID'].astype(int)\n",
    "\n",
    "# Convertir les autres colonnes en type \"category\" pour les colonnes catégorielles\n",
    "for col in qualitative_vars:\n",
    "    df_filtered[col] = df_filtered[col].astype('category')\n",
    "\n",
    "# Convertion en format data heure\n",
    "df_filtered['tpep_pickup_datetime'] = pd.to_datetime(df_filtered['tpep_pickup_datetime'])\n",
    "df_filtered['tpep_dropoff_datetime'] = pd.to_datetime(df_filtered['tpep_dropoff_datetime'])"
   ]
  },
  {
   "cell_type": "markdown",
   "metadata": {},
   "source": [
    "# Régression"
   ]
  },
  {
   "cell_type": "code",
   "execution_count": 10,
   "metadata": {},
   "outputs": [],
   "source": [
    "df_filtered = df_filtered.reset_index(drop=True)\n",
    "\n",
    "### Données one hot encoded ###\n",
    "X = df_filtered.drop(['tip_amount', 'tpep_pickup_datetime', 'tpep_dropoff_datetime'],axis=1)\n",
    "y = df_filtered['tip_amount']\n",
    "\n",
    "features = X.columns"
   ]
  },
  {
   "cell_type": "markdown",
   "metadata": {},
   "source": [
    "## Feature scaling"
   ]
  },
  {
   "cell_type": "code",
   "execution_count": 12,
   "metadata": {},
   "outputs": [],
   "source": [
    "# Transformé les données\n",
    "ct_s = StandardScaler()\n",
    "X_ss = X.copy()\n",
    "X_ss[quantitative_vars] = ct_s.fit_transform(X_ss[quantitative_vars])\n",
    "X_ss = pd.DataFrame(X_ss, columns=features)\n",
    "\n",
    "# Transformé les données\n",
    "ct_m = MinMaxScaler()\n",
    "X_mm = X.copy()\n",
    "X_mm[quantitative_vars] = ct_m.fit_transform(X_mm[quantitative_vars])\n",
    "X_mm = pd.DataFrame(X_mm, columns=features)"
   ]
  },
  {
   "cell_type": "markdown",
   "metadata": {},
   "source": [
    "## Entraînement modèles sans configuration"
   ]
  },
  {
   "cell_type": "code",
   "execution_count": 14,
   "metadata": {},
   "outputs": [],
   "source": [
    "# Partionnement test-train\n",
    "X_train, X_test, y_train, y_test = train_test_split(X, y, test_size=0.3, random_state=42)\n",
    "\n",
    "features = X_train.columns"
   ]
  },
  {
   "cell_type": "code",
   "execution_count": 15,
   "metadata": {},
   "outputs": [],
   "source": [
    "# Transformation des données pour répondre aux demandes de XGBoost\n",
    "# One hot encode les variables catégorielles\n",
    "def xgboost_data(df, categories):\n",
    "    df_encoded = pd.get_dummies(df, columns = categories)\n",
    "    return df_encoded"
   ]
  },
  {
   "cell_type": "code",
   "execution_count": 16,
   "metadata": {},
   "outputs": [],
   "source": [
    "categories_for_xgb = ['VendorID', \n",
    "                      'RatecodeID', \n",
    "                      'store_and_fwd_flag', \n",
    "                      'payment_type', \n",
    "                      'mta_tax', \n",
    "                      'improvement_surcharge', \n",
    "                      'congestion_surcharge', \n",
    "                      'Airport_fee']"
   ]
  },
  {
   "cell_type": "markdown",
   "metadata": {},
   "source": [
    "### Sur données de base"
   ]
  },
  {
   "cell_type": "code",
   "execution_count": 17,
   "metadata": {},
   "outputs": [
    {
     "name": "stdout",
     "output_type": "stream",
     "text": [
      "ElasticNet\n",
      "Random Forest Regressor\n",
      "SVR\n",
      "Gradient Boosting\n",
      "XGBoost\n",
      "LightGBM\n",
      "CatBoost\n",
      "Extra Trees Regressor\n"
     ]
    }
   ],
   "source": [
    "# Sur données originales\n",
    "\n",
    "models = {\n",
    "    \"ElasticNet\": ElasticNet(random_state=42),\n",
    "    \"Random Forest Regressor\": RandomForestRegressor(random_state=42),\n",
    "    \"SVR\": SVR(),\n",
    "    \"Gradient Boosting\": GradientBoostingRegressor(random_state=42),\n",
    "    \"XGBoost\": XGBRegressor(),\n",
    "    \"LightGBM\": LGBMRegressor(random_state=42, verbose=0),\n",
    "    \"CatBoost\": CatBoostRegressor(random_seed=42, verbose=0, cat_features=categories_for_xgb),\n",
    "    \"Extra Trees Regressor\": ExtraTreesRegressor(random_state=42)\n",
    "}\n",
    "\n",
    "mse_scores_default = {}\n",
    "mae_scores_default = {}\n",
    "r2_scores_default = {}\n",
    "max_error_scores_default = {}\n",
    "\n",
    "for method, model in models.items():\n",
    "    print(method)\n",
    "    if method == 'SVR':\n",
    "        index = np.random.randint(0, len(X_train), 5000)\n",
    "        X_train_subset = X_train.iloc[index]\n",
    "        y_train_subset = y_train.iloc[index]\n",
    "        base_model = model.fit(X_train_subset, y_train_subset)\n",
    "    elif method == 'XGBoost':\n",
    "        X_train_xgb = xgboost_data(X_train, categories_for_xgb)\n",
    "        base_model = model.fit(X_train_xgb, y_train)\n",
    "    else:\n",
    "        base_model = model.fit(X_train, y_train)\n",
    "\n",
    "    if method == 'XGBoost':\n",
    "        X_test_xgb = xgboost_data(X_test, categories_for_xgb)\n",
    "        y_pred = base_model.predict(X_test_xgb)\n",
    "    else: \n",
    "        y_pred = base_model.predict(X_test)\n",
    "    \n",
    "    # Calculate metrics correctly with y_test first\n",
    "    mse_scores_default[method] = mean_squared_error(y_test, y_pred)\n",
    "    mae_scores_default[method] = mean_absolute_error(y_test, y_pred)\n",
    "    r2_scores_default[method] = r2_score(y_test, y_pred)\n",
    "    max_error_scores_default[method] = max_error(y_test, y_pred)"
   ]
  },
  {
   "cell_type": "markdown",
   "metadata": {},
   "source": [
    "### Données normalisées"
   ]
  },
  {
   "cell_type": "code",
   "execution_count": 18,
   "metadata": {},
   "outputs": [],
   "source": [
    "# Partionnement test-train\n",
    "X_train_ss, X_test_ss, y_train_ss, y_test_ss = train_test_split(X_ss, y, test_size=0.3, random_state=42)"
   ]
  },
  {
   "cell_type": "code",
   "execution_count": 19,
   "metadata": {},
   "outputs": [
    {
     "name": "stdout",
     "output_type": "stream",
     "text": [
      "ElasticNet\n",
      "Random Forest Regressor\n",
      "SVR\n",
      "Gradient Boosting\n",
      "XGBoost\n",
      "LightGBM\n",
      "CatBoost\n",
      "Extra Trees Regressor\n"
     ]
    }
   ],
   "source": [
    "# Sur données Standardisées\n",
    "\n",
    "mse_scores_default_ss = {}\n",
    "mae_scores_default_ss = {}\n",
    "r2_scores_default_ss = {}\n",
    "max_error_scores_default_ss = {}\n",
    "\n",
    "for method, model in models.items():\n",
    "    print(method)\n",
    "    if method == 'SVR':\n",
    "        index = np.random.randint(0, len(X_train_ss), 10000)\n",
    "        X_train_subset = X_train_ss.iloc[index]\n",
    "        y_train_subset = y_train_ss.iloc[index]\n",
    "        base_model = model.fit(X_train_subset, y_train_subset)\n",
    "    elif method == 'XGBoost':\n",
    "        X_train_xgb = xgboost_data(X_train_ss, categories_for_xgb)\n",
    "        base_model = model.fit(X_train_xgb, y_train)\n",
    "    else:\n",
    "        base_model = model.fit(X_train_ss, y_train_ss)\n",
    "\n",
    "    if method == 'XGBoost':\n",
    "        X_test_xgb = xgboost_data(X_test_ss, categories_for_xgb)\n",
    "        y_pred = base_model.predict(X_test_xgb)\n",
    "    else: \n",
    "        y_pred = base_model.predict(X_test_ss)\n",
    "    \n",
    "    # Calculate metrics correctly with y_test first\n",
    "    mse_scores_default_ss[method] = mean_squared_error(y_test, y_pred)\n",
    "    mae_scores_default_ss[method] = mean_absolute_error(y_test, y_pred)\n",
    "    r2_scores_default_ss[method] = r2_score(y_test, y_pred)\n",
    "    max_error_scores_default_ss[method] = max_error(y_test, y_pred)"
   ]
  },
  {
   "cell_type": "markdown",
   "metadata": {},
   "source": [
    "### Données Min-Max"
   ]
  },
  {
   "cell_type": "code",
   "execution_count": 20,
   "metadata": {},
   "outputs": [],
   "source": [
    "# Partionnement test-train\n",
    "X_train_mm, X_test_mm, y_train_mm, y_test_mm = train_test_split(X_mm, y, test_size=0.3, random_state=42)"
   ]
  },
  {
   "cell_type": "code",
   "execution_count": 21,
   "metadata": {},
   "outputs": [
    {
     "name": "stdout",
     "output_type": "stream",
     "text": [
      "ElasticNet\n",
      "Random Forest Regressor\n",
      "SVR\n",
      "Gradient Boosting\n",
      "XGBoost\n",
      "LightGBM\n",
      "CatBoost\n",
      "Extra Trees Regressor\n"
     ]
    }
   ],
   "source": [
    "# Sur données Min-Max\n",
    "\n",
    "mse_scores_default_mm = {}\n",
    "mae_scores_default_mm = {}\n",
    "r2_scores_default_mm = {}\n",
    "max_error_scores_default_mm = {}\n",
    "\n",
    "for method, model in models.items():\n",
    "    print(method)\n",
    "    if method == 'SVR':\n",
    "        index = np.random.randint(0, len(X_train_mm), 10000)\n",
    "        X_train_subset = X_train_mm.iloc[index]\n",
    "        y_train_subset = y_train_mm.iloc[index]\n",
    "        base_model = model.fit(X_train_subset, y_train_subset)\n",
    "    elif method == 'XGBoost':\n",
    "        X_train_xgb = xgboost_data(X_train_mm, categories_for_xgb)\n",
    "        base_model = model.fit(X_train_xgb, y_train)\n",
    "    else:\n",
    "        base_model = model.fit(X_train_mm, y_train_mm)\n",
    "\n",
    "    if method == 'XGBoost':\n",
    "        X_test_xgb = xgboost_data(X_test_mm, categories_for_xgb)\n",
    "        y_pred = base_model.predict(X_test_xgb)\n",
    "    else: \n",
    "        y_pred = base_model.predict(X_test_mm)\n",
    "    \n",
    "    # Calculate metrics correctly with y_test first\n",
    "    mse_scores_default_mm[method] = mean_squared_error(y_test, y_pred)\n",
    "    mae_scores_default_mm[method] = mean_absolute_error(y_test, y_pred)\n",
    "    r2_scores_default_mm[method] = r2_score(y_test, y_pred)\n",
    "    max_error_scores_default_mm[method] = max_error(y_test, y_pred)"
   ]
  },
  {
   "cell_type": "markdown",
   "metadata": {},
   "source": [
    "# Performance et comparaisons"
   ]
  },
  {
   "cell_type": "code",
   "execution_count": 22,
   "metadata": {},
   "outputs": [
    {
     "name": "stdout",
     "output_type": "stream",
     "text": [
      "+-------------------------+--------------------+--------------------+---------------------+-------------------+\n",
      "|          Model          |        MSE         |        MAE         |          r2         |     Max error     |\n",
      "+-------------------------+--------------------+--------------------+---------------------+-------------------+\n",
      "|        ElasticNet       | 7.687211583237081  | 1.777332504416833  | 0.43837270410805695 | 86.39511263822578 |\n",
      "| Random Forest Regressor | 4.6445640589171004 | 1.045816958039803  |  0.6606683808866785 |      86.0271      |\n",
      "|           SVR           | 8.910132746877325  | 1.638231241264314  |  0.3490261447233761 | 85.47468476412352 |\n",
      "|    Gradient Boosting    |  4.16564012412838  | 0.9928677908734345 |  0.6956585397395785 | 85.77938532290463 |\n",
      "|         XGBoost         | 4.374233569957726  | 1.0094222258442542 |  0.6804187129631982 | 85.77312994003296 |\n",
      "|         LightGBM        | 4.218133962473932  | 0.9881030654932231 |  0.6918233425212152 |  85.8413006384939 |\n",
      "|         CatBoost        | 4.212508172388175  | 0.994784503251994  |  0.692234362465041  | 85.80300390887632 |\n",
      "|  Extra Trees Regressor  | 5.191817491876522  | 1.0960521012777777 |  0.6206860722962915 |      85.8468      |\n",
      "+-------------------------+--------------------+--------------------+---------------------+-------------------+\n",
      "+-------------------------+-------------------+--------------------+--------------------+-------------------+\n",
      "|          Model          |        MSE        |        MAE         |         r2         |     Max error     |\n",
      "+-------------------------+-------------------+--------------------+--------------------+-------------------+\n",
      "|        ElasticNet       | 8.392956313980415 | 1.861706077061461  | 0.3868110291852943 | 86.54127694475112 |\n",
      "| Random Forest Regressor |  4.64302254377465 | 1.0454900958069986 | 0.6607810039063076 |      86.0285      |\n",
      "|           SVR           | 6.077059870249337 | 1.1921377465315521 | 0.5560103081663395 | 85.51854619160073 |\n",
      "|    Gradient Boosting    | 4.162225342500911 | 0.9927622222461195 | 0.6959080235154225 | 85.77938532290463 |\n",
      "|         XGBoost         | 4.374233569957726 | 1.0094222258442542 | 0.6804187129631982 | 85.77312994003296 |\n",
      "|         LightGBM        | 4.219133465046561 | 0.9877025165146368 | 0.6917503189129764 | 85.84636762748246 |\n",
      "|         CatBoost        | 4.219894315663496 | 0.9937796239560559 | 0.6916947312047497 |  85.7776813434091 |\n",
      "|  Extra Trees Regressor  | 5.216671765130126 | 1.0956975483333333 | 0.6188702203286911 |      85.7454      |\n",
      "+-------------------------+-------------------+--------------------+--------------------+-------------------+\n",
      "+-------------------------+--------------------+--------------------+---------------------+-------------------+\n",
      "|          Model          |        MSE         |        MAE         |          r2         |     Max error     |\n",
      "+-------------------------+--------------------+--------------------+---------------------+-------------------+\n",
      "|        ElasticNet       | 13.350151500575771 | 2.3051347102895727 | 0.02463859543478153 | 86.50835888320321 |\n",
      "| Random Forest Regressor | 4.646305135993904  | 1.045624413108586  |  0.6605411778820524 |      86.0285      |\n",
      "|           SVR           | 7.3677529082048006 | 1.5446945542285708 |  0.4617123390153156 | 86.83801380770387 |\n",
      "|    Gradient Boosting    | 4.163282281390757  |  0.99280692780258  |  0.6958308036127048 | 85.77938532290463 |\n",
      "|         XGBoost         | 4.374233569957726  | 1.0094222258442542 |  0.6804187129631982 | 85.77312994003296 |\n",
      "|         LightGBM        |  4.20326914553061  | 0.9873075002806131 |  0.6929093653076845 | 85.87374296195124 |\n",
      "|         CatBoost        | 4.219894315663496  | 0.9937796239560559 |  0.6916947312047497 |  85.7776813434091 |\n",
      "|  Extra Trees Regressor  | 5.214255962802897  | 1.095744737777778  |  0.619046718726551  |       85.757      |\n",
      "+-------------------------+--------------------+--------------------+---------------------+-------------------+\n"
     ]
    }
   ],
   "source": [
    "# Toutes les métriques\n",
    "table = PrettyTable()\n",
    "\n",
    "table.field_names = ['Model', 'MSE', 'MAE', 'r2', 'Max error']\n",
    "\n",
    "for model in mse_scores_default.keys():\n",
    "    table.add_row([model, mse_scores_default.get(model, '-'), mae_scores_default.get(model, '-'), r2_scores_default.get(model, '-'), max_error_scores_default.get(model, '-')])\n",
    "\n",
    "# Print the table\n",
    "print(table)\n",
    "\n",
    "table = PrettyTable()\n",
    "\n",
    "table.field_names = ['Model', 'MSE', 'MAE', 'r2', 'Max error']\n",
    "\n",
    "for model in mse_scores_default_ss.keys():\n",
    "    table.add_row([model, mse_scores_default_ss.get(model, '-'), mae_scores_default_ss.get(model, '-'), r2_scores_default_ss.get(model, '-'), max_error_scores_default_ss.get(model, '-')])\n",
    "\n",
    "# Print the table\n",
    "print(table)\n",
    "\n",
    "table = PrettyTable()\n",
    "\n",
    "table.field_names = ['Model', 'MSE', 'MAE', 'r2', 'Max error']\n",
    "\n",
    "for model in mse_scores_default_mm.keys():\n",
    "    table.add_row([model, mse_scores_default_mm.get(model, '-'), mae_scores_default_mm.get(model, '-'), r2_scores_default_mm.get(model, '-'), max_error_scores_default_mm.get(model, '-')])\n",
    "\n",
    "# Print the table\n",
    "print(table)"
   ]
  },
  {
   "cell_type": "code",
   "execution_count": 23,
   "metadata": {},
   "outputs": [
    {
     "data": {
      "image/png": "[encoded data removed]",
      "text/plain": [
       "<Figure size 500x250 with 1 Axes>"
      ]
     },
     "metadata": {},
     "output_type": "display_data"
    }
   ],
   "source": [
    "# Comparaison du mean squared error\n",
    "mse_scores_default_all = [mse_scores_default.values(), mse_scores_default_ss.values(), mse_scores_default_mm.values()]\n",
    "mse_scores_default_all = np.array([np.round(list(i),3) for i in mse_scores_default_all]).T\n",
    "\n",
    "# Plot\n",
    "fig, ax = plt.subplots(figsize=(5, 2.5)) \n",
    "ax.axis('off')\n",
    "\n",
    "the_table = ax.table(cellText=mse_scores_default_all, colLabels=['No scaling', 'Standard scaling', 'Min-Max scaling'], rowLabels=list(models.keys()), loc='center',cellLoc='center')\n",
    "plt.title('Comparaison des erreurs quadratiques moyennes')\n",
    "\n",
    "plt.show()"
   ]
  },
  {
   "cell_type": "code",
   "execution_count": 24,
   "metadata": {},
   "outputs": [
    {
     "data": {
      "image/png": "[encoded data removed]",
      "text/plain": [
       "<Figure size 500x250 with 1 Axes>"
      ]
     },
     "metadata": {},
     "output_type": "display_data"
    }
   ],
   "source": [
    "# Comparaison du r2 score\n",
    "r2_scores_default_all = [r2_scores_default.values(), r2_scores_default_ss.values(), r2_scores_default_mm.values()]\n",
    "r2_scores_default_all = np.array([np.round(list(i),3) for i in r2_scores_default_all]).T\n",
    "\n",
    "# Plot\n",
    "fig, ax = plt.subplots(figsize=(5, 2.5))\n",
    "ax.axis('off')\n",
    "\n",
    "the_table = ax.table(cellText=r2_scores_default_all, colLabels=['No scaling', 'Standard scaling', 'Min-Max scaling'], rowLabels=list(models.keys()), loc='center',cellLoc='center')\n",
    "plt.title('Comparaison des scores r2')\n",
    "\n",
    "plt.show()"
   ]
  }
 ],
 "metadata": {
  "kernelspec": {
   "display_name": "m2",
   "language": "python",
   "name": "python3"
  },
  "language_info": {
   "codemirror_mode": {
    "name": "ipython",
    "version": 3
   },
   "file_extension": ".py",
   "mimetype": "text/x-python",
   "name": "python",
   "nbconvert_exporter": "python",
   "pygments_lexer": "ipython3",
   "version": "3.12.7"
  }
 },
 "nbformat": 4,
 "nbformat_minor": 2
}
