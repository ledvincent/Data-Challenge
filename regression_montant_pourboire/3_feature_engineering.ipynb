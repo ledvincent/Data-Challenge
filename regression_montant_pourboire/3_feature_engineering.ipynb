{
 "cells": [
  {
   "cell_type": "markdown",
   "metadata": {},
   "source": [
    "# Packages"
   ]
  },
  {
   "cell_type": "code",
   "execution_count": 1,
   "metadata": {},
   "outputs": [],
   "source": [
    "import pandas as pd\n",
    "import numpy as np\n",
    "import matplotlib.pyplot as plt\n",
    "import seaborn as sns\n",
    "import time\n",
    "from prettytable import PrettyTable"
   ]
  },
  {
   "cell_type": "code",
   "execution_count": 3,
   "metadata": {},
   "outputs": [],
   "source": [
    "# sklearn\n",
    "from sklearn import datasets\n",
    "from sklearn.model_selection import train_test_split\n",
    "from sklearn.linear_model import ElasticNet\n",
    "from sklearn.preprocessing import StandardScaler, MinMaxScaler, LabelEncoder\n",
    "from sklearn.ensemble import RandomForestRegressor, ExtraTreesRegressor, GradientBoostingRegressor\n",
    "from sklearn.svm import SVR\n",
    "from sklearn.cluster import KMeans\n",
    "from sklearn.compose import ColumnTransformer\n",
    "from scipy.stats import mode\n",
    "from xgboost import XGBRegressor\n",
    "from lightgbm import LGBMRegressor\n",
    "from catboost import CatBoostRegressor\n",
    "from sklearn.cross_decomposition import PLSRegression\n",
    "from sklearn.metrics import mean_squared_error, mean_absolute_error, r2_score, max_error\n",
    "from sklearn.model_selection import GridSearchCV, RandomizedSearchCV"
   ]
  },
  {
   "cell_type": "code",
   "execution_count": 4,
   "metadata": {},
   "outputs": [],
   "source": [
    "import warnings\n",
    "warnings.filterwarnings('ignore')"
   ]
  },
  {
   "cell_type": "markdown",
   "metadata": {},
   "source": [
    "# Initialisation"
   ]
  },
  {
   "cell_type": "code",
   "execution_count": 5,
   "metadata": {},
   "outputs": [],
   "source": [
    "naive_sub= pd.read_parquet('taxi/naive_submission.parquet')\n",
    "df= pd.read_parquet('taxi/train.parquet')\n",
    "test= pd.read_parquet('taxi/test.parquet')"
   ]
  },
  {
   "cell_type": "markdown",
   "metadata": {},
   "source": [
    "# Préparation des données"
   ]
  },
  {
   "cell_type": "code",
   "execution_count": 7,
   "metadata": {},
   "outputs": [],
   "source": [
    "columns = list(df.columns)\n",
    "# Variable qualitative ou quantitative\n",
    "quantitative_vars = ['passenger_count','trip_distance', 'PU_location_lat', 'PU_location_lon', 'DO_location_lat', 'DO_location_lon', 'fare_amount', 'tolls_amount', 'extra']\n",
    "qualitative_vars = ['VendorID', 'tpep_pickup_datetime', 'tpep_dropoff_datetime', 'RatecodeID', 'store_and_fwd_flag', 'payment_type', 'mta_tax', 'improvement_surcharge', 'congestion_surcharge', 'Airport_fee']\n",
    "variable_cible = 'tip_amount'\n",
    "\n",
    "\n",
    "# Supprime observation nombre de passagers = 8 de nos données\n",
    "# Nous définissons un nouveau dataframe sur lequel nous faisons des transformations\n",
    "df_filtered = df.copy()\n",
    "index_8 = df_filtered[df_filtered['passenger_count']==7].index\n",
    "df_filtered = df_filtered.drop(index_8, axis=0)\n",
    "\n",
    "# Convertir en numérique les colonnes qui devraient l'être\n",
    "for col in quantitative_vars:\n",
    "    df_filtered[col] = pd.to_numeric(df_filtered[col], errors='coerce')\n",
    "\n",
    "for col in qualitative_vars:\n",
    "    df_filtered[col] = df_filtered[col].astype('category')\n",
    "\n",
    "# Variable binaire\n",
    "for col in ['store_and_fwd_flag','VendorID', 'mta_tax', 'congestion_surcharge', 'Airport_fee']:\n",
    "    df_filtered[col] = pd.factorize(df_filtered[col])[0] + 1\n",
    "\n",
    "# Variable improvement surcharge\n",
    "df_filtered['improvement_surcharge'] = pd.factorize(df_filtered['improvement_surcharge'])[0] + 1\n",
    "\n",
    "# RatecodeID en entiers\n",
    "df_filtered['RatecodeID'] = df_filtered['RatecodeID'].astype(int)\n",
    "\n",
    "# Convertir les autres colonnes en type \"category\" pour les colonnes catégorielles\n",
    "for col in qualitative_vars:\n",
    "    df_filtered[col] = df_filtered[col].astype('category')\n",
    "\n",
    "# Convertion en format data heure\n",
    "df_filtered['tpep_pickup_datetime'] = pd.to_datetime(df_filtered['tpep_pickup_datetime'])\n",
    "df_filtered['tpep_dropoff_datetime'] = pd.to_datetime(df_filtered['tpep_dropoff_datetime'])\n",
    "\n",
    "df_filtered = df_filtered.reset_index(drop=True)"
   ]
  },
  {
   "cell_type": "markdown",
   "metadata": {},
   "source": [
    "# Feature engineering"
   ]
  },
  {
   "cell_type": "code",
   "execution_count": 9,
   "metadata": {},
   "outputs": [],
   "source": [
    "df_fe = pd.DataFrame()"
   ]
  },
  {
   "cell_type": "markdown",
   "metadata": {},
   "source": [
    "### Variables temporelles"
   ]
  },
  {
   "cell_type": "code",
   "execution_count": 10,
   "metadata": {},
   "outputs": [],
   "source": [
    "# Calculer le temps de trajet + nouvelle variable trajet moyen\n",
    "df_fe['trip_duration'] = (df_filtered['tpep_dropoff_datetime'] - df_filtered['tpep_pickup_datetime']).dt.total_seconds() / 60\n",
    "\n",
    "df_fe['average_speed'] = df_filtered['trip_distance']/df_fe['trip_duration']\n",
    "df_fe = df_fe.drop(['trip_duration'], axis=1)"
   ]
  },
  {
   "cell_type": "code",
   "execution_count": 11,
   "metadata": {},
   "outputs": [],
   "source": [
    "# Creer une variable \"time_of_day\": (matin, midi, soir)\n",
    "# Nous choisissons de definir matin : 5h-12h, midi : 12h-18h, soir : 18h-5h\n",
    "def time_of_day(hour):\n",
    "    if 4 <= hour < 12:\n",
    "        return 0\n",
    "    elif 12 <= hour < 18:\n",
    "        return 1\n",
    "    else:\n",
    "        return 2\n",
    "\n",
    "df_fe['time_of_day'] = df_filtered['tpep_pickup_datetime'].dt.hour.apply(time_of_day)"
   ]
  },
  {
   "cell_type": "code",
   "execution_count": 12,
   "metadata": {},
   "outputs": [],
   "source": [
    "# Creer une variable binaire indiquant si le trajet a eu lieu pendant le weekend (vendredi compris)\n",
    "df_fe['is_weekend'] = df_filtered['tpep_pickup_datetime'].dt.dayofweek.apply(lambda x: True if x >= 5 else False)"
   ]
  },
  {
   "cell_type": "markdown",
   "metadata": {},
   "source": [
    "### Petite analyse de la méthode de paiement"
   ]
  },
  {
   "cell_type": "code",
   "execution_count": 13,
   "metadata": {},
   "outputs": [
    {
     "name": "stdout",
     "output_type": "stream",
     "text": [
      "Carte de crédit: 4.113448354415203\n",
      "Espèce: 0.0\n",
      "Aucune charge: 0.0\n",
      "Litige: 0.001176470588235294\n"
     ]
    }
   ],
   "source": [
    "# Pourboire moyen par méthode de paiement\n",
    "print('Carte de crédit:',np.mean(df_filtered[df_filtered['payment_type']==1]['tip_amount']))\n",
    "print('Espèce:', np.mean(df_filtered[df_filtered['payment_type']==2]['tip_amount']))\n",
    "print('Aucune charge:',np.mean(df_filtered[df_filtered['payment_type']==3]['tip_amount']))\n",
    "print('Litige:',np.mean(df_filtered[df_filtered['payment_type']==4]['tip_amount']))"
   ]
  },
  {
   "cell_type": "code",
   "execution_count": 14,
   "metadata": {},
   "outputs": [
    {
     "name": "stdout",
     "output_type": "stream",
     "text": [
      "1\n"
     ]
    }
   ],
   "source": [
    "# Il y a une observation avec un pourboire non nul pour une méthode paiement différente de carte de crédit. Potentiel outlier\n",
    "print(df_filtered.loc[(df_filtered['payment_type'] == 4) & (df_filtered['tip_amount'] == 1)].shape[0])"
   ]
  },
  {
   "cell_type": "code",
   "execution_count": 15,
   "metadata": {},
   "outputs": [
    {
     "name": "stdout",
     "output_type": "stream",
     "text": [
      "observations où le paiement a été effectué par carte de crédit 83405\n"
     ]
    }
   ],
   "source": [
    "print(f\"observations où le paiement a été effectué par carte de crédit {len(df_filtered[df_filtered['payment_type']==1])}\")"
   ]
  },
  {
   "cell_type": "markdown",
   "metadata": {},
   "source": [
    "### Données coordonnées"
   ]
  },
  {
   "cell_type": "code",
   "execution_count": 16,
   "metadata": {},
   "outputs": [],
   "source": [
    "# Clusterisation des quartiers/zones pour point de départ et arrivée\n",
    "# Appliquer KMeans pour 10 clusters\n",
    "kmeans_pickup = KMeans(n_clusters=10, random_state=42)\n",
    "df_fe['pickup_cluster'] = kmeans_pickup.fit_predict(df_filtered[['PU_location_lat', 'PU_location_lon']])\n",
    "\n",
    "kmeans_dropoff = KMeans(n_clusters=10, random_state=42)\n",
    "df_fe['dropoff_cluster'] = kmeans_dropoff.fit_predict(df_filtered[['DO_location_lat', 'DO_location_lon']])"
   ]
  },
  {
   "cell_type": "markdown",
   "metadata": {},
   "source": [
    "### Frais supplémentaires"
   ]
  },
  {
   "cell_type": "code",
   "execution_count": 17,
   "metadata": {},
   "outputs": [],
   "source": [
    "# Somme des variables \"frais\"\"+ suppression\"\n",
    "\n",
    "df_fe[['extra', 'mta_tax', 'improvement_surcharge', 'congestion_surcharge', 'Airport_fee']] = df_filtered[['extra', 'mta_tax', 'improvement_surcharge', 'congestion_surcharge', 'Airport_fee']].apply(pd.to_numeric, errors='coerce')\n",
    "df_fe['total_extra_fees'] = df_fe[['extra', 'mta_tax', 'improvement_surcharge', 'congestion_surcharge', 'Airport_fee']].sum(axis=1)\n",
    "df_fe = df_fe.drop(['extra', 'mta_tax', 'improvement_surcharge', 'congestion_surcharge', 'Airport_fee'], axis=1)"
   ]
  },
  {
   "cell_type": "markdown",
   "metadata": {},
   "source": [
    "### Fonction de transformation des données"
   ]
  },
  {
   "cell_type": "code",
   "execution_count": 18,
   "metadata": {},
   "outputs": [],
   "source": [
    "# Transformation du nouveau dataframe\n",
    "def transform_df_fe(df, km_pickup, km_dropoff):\n",
    "    # Supprime cette observation de nos données\n",
    "    # Nous définissons un nouveau dataframe sur lequel nous faisons des transformations\n",
    "    df_filtered = df.copy()\n",
    "\n",
    "    # Convertir en numérique les colonnes qui devraient l'être\n",
    "    for col in quantitative_vars:\n",
    "        df_filtered[col] = pd.to_numeric(df_filtered[col], errors='coerce')\n",
    "\n",
    "    # Variable catégorielles\n",
    "    for col in ['store_and_fwd_flag','VendorID', 'mta_tax', 'congestion_surcharge', 'Airport_fee', 'improvement_surcharge']:\n",
    "        to_map = np.unique(df_filtered[col])\n",
    "        df_filtered[col] = df_filtered[col].map({to_map[0]: 0, to_map[1]: 1})\n",
    "\n",
    "    # RatecodeID en entiers\n",
    "    df_filtered['RatecodeID'] = df_filtered['RatecodeID'].astype(int)\n",
    "\n",
    "    # Convertir les autres colonnes en type \"category\" pour les colonnes catégorielles\n",
    "    for col in qualitative_vars:\n",
    "        df_filtered[col] = df_filtered[col].astype('category')\n",
    "\n",
    "    # Feauter engineering\n",
    "    # Convertion en format data heure\n",
    "    df_filtered['tpep_pickup_datetime'] = pd.to_datetime(df_filtered['tpep_pickup_datetime'])\n",
    "    df_filtered['tpep_dropoff_datetime'] = pd.to_datetime(df_filtered['tpep_dropoff_datetime'])\n",
    "\n",
    "    df_fe = pd.DataFrame()\n",
    "    # Calculer le temps de trajet + nouvelle variable trajet moyen\n",
    "    df_fe['trip_duration'] = (df_filtered['tpep_dropoff_datetime'] - df_filtered['tpep_pickup_datetime']).dt.total_seconds() / 60\n",
    "\n",
    "    # df_fe['average_speed'] = df_filtered['trip_distance']/df_fe['trip_duration']\n",
    "    df_fe['average_speed'] = np.where(df_fe['trip_duration'] == 0, 0, df_filtered['trip_distance'] / df_fe['trip_duration'])\n",
    "    \n",
    "    df_fe = df_fe.drop(['trip_duration'], axis=1)\n",
    "\n",
    "    # Time of day\n",
    "    df_fe['time_of_day'] = df_filtered['tpep_pickup_datetime'].dt.hour.apply(time_of_day)\n",
    "\n",
    "    # Creer une variable binaire indiquant si le trajet a eu lieu pendant le weekend (vendredi compris)\n",
    "    df_fe['is_weekend'] = df_filtered['tpep_pickup_datetime'].dt.dayofweek.apply(lambda x: True if x >= 5 else False)\n",
    "\n",
    "    df_fe['pickup_cluster'] = km_pickup.predict(df_filtered[['PU_location_lat', 'PU_location_lon']])\n",
    "    df_fe['dropoff_cluster'] = km_dropoff.predict(df_filtered[['DO_location_lat', 'DO_location_lon']])\n",
    "\n",
    "    # Frais supplementaire\n",
    "    df_fe[['extra', 'mta_tax', 'improvement_surcharge', 'congestion_surcharge', 'Airport_fee']] = df_filtered[['extra', 'mta_tax', 'improvement_surcharge', 'congestion_surcharge', 'Airport_fee']].apply(pd.to_numeric, errors='coerce')\n",
    "    df_fe['total_extra_fees'] = df_fe[['extra', 'mta_tax', 'improvement_surcharge', 'congestion_surcharge', 'Airport_fee']].sum(axis=1)\n",
    "    df_fe = df_fe.drop(['extra', 'mta_tax', 'improvement_surcharge', 'congestion_surcharge', 'Airport_fee'], axis=1)\n",
    "\n",
    "    # to category\n",
    "    for col in ['time_of_day', 'pickup_cluster', 'dropoff_cluster']:\n",
    "        df_fe[col] = df_fe[col].astype('category')\n",
    "\n",
    "    # Enlever les variables inutiles\n",
    "    to_remove = ['PU_location_lat', 'PU_location_lon', 'DO_location_lat', 'DO_location_lon', 'tpep_dropoff_datetime', 'tpep_pickup_datetime', 'mta_tax', 'improvement_surcharge', 'congestion_surcharge','store_and_fwd_flag']\n",
    "    df_filtered = df_filtered.drop(to_remove, axis=1)\n",
    "\n",
    "    df_filtered = df_filtered.join(df_fe)\n",
    "\n",
    "    return df_filtered"
   ]
  },
  {
   "cell_type": "markdown",
   "metadata": {},
   "source": [
    "# Test des performances des modèles sur données après feature engineering\n",
    "\n",
    "Les modèles seront entraînés uniquement sur les données pour laquelle le omde de paiement est la carte de crédit"
   ]
  },
  {
   "cell_type": "code",
   "execution_count": 25,
   "metadata": {},
   "outputs": [],
   "source": [
    "X = df_filtered.drop(['tip_amount', 'tpep_pickup_datetime', 'tpep_dropoff_datetime'],axis=1)\n",
    "y = df_filtered['tip_amount']\n",
    "\n",
    "### Données avec methode de paiement: carte de credit (==1)\n",
    "df_filtered2 = df_filtered[df_filtered['payment_type']==1]\n",
    "\n",
    "X22 = df_filtered2.drop(['tip_amount'],axis=1)\n",
    "X22  = transform_df_fe(X22, kmeans_pickup, kmeans_dropoff)\n",
    "X22 = X22.drop('payment_type', axis=1)\n",
    "\n",
    "y22 = df_filtered2['tip_amount']"
   ]
  },
  {
   "cell_type": "code",
   "execution_count": 26,
   "metadata": {},
   "outputs": [],
   "source": [
    "X_tr, X_te, y_tr, y_te = train_test_split(X22, y22, test_size=0.3, random_state=42)\n",
    "X_train, X_test, y_train, y_test = train_test_split(X, y, test_size=0.3, random_state=42)\n",
    "\n",
    "features = X_train.columns"
   ]
  },
  {
   "cell_type": "code",
   "execution_count": 27,
   "metadata": {},
   "outputs": [],
   "source": [
    "categories_for_xgb = ['VendorID', \n",
    "                      'RatecodeID', \n",
    "                      'store_and_fwd_flag', \n",
    "                      'payment_type', \n",
    "                      'mta_tax', \n",
    "                      'improvement_surcharge', \n",
    "                      'congestion_surcharge', \n",
    "                      'Airport_fee']\n",
    "\n",
    "# Transformation des données pour répondre aux demandes de XGBoost\n",
    "# One hot encode les variables catégorielles\n",
    "def xgboost_data(df, categories):\n",
    "    df_encoded = pd.get_dummies(df, columns = categories)\n",
    "    return df_encoded"
   ]
  },
  {
   "cell_type": "code",
   "execution_count": 29,
   "metadata": {},
   "outputs": [
    {
     "name": "stdout",
     "output_type": "stream",
     "text": [
      "XGBoost\n",
      "CatBoost\n",
      "Random Forest Regressor\n",
      "SVR\n",
      "Gradient Boosting\n",
      "LightGBM\n",
      "Extra Trees Regressor\n"
     ]
    }
   ],
   "source": [
    "# Sur données originales\n",
    "\n",
    "models = {\n",
    "    \"XGBoost\": XGBRegressor(enable_categorical=True),\n",
    "    \"CatBoost\": CatBoostRegressor(random_seed=42, verbose=0, cat_features=categories_for_xgb),\n",
    "    \"Random Forest Regressor\": RandomForestRegressor(random_state=42),\n",
    "    \"SVR\": SVR(),\n",
    "    \"Gradient Boosting\": GradientBoostingRegressor(random_state=42),    \n",
    "    \"LightGBM\": LGBMRegressor(random_state=42, verbose=0),\n",
    "    \"Extra Trees Regressor\": ExtraTreesRegressor(random_state=42)\n",
    "}\n",
    "\n",
    "mse_scores_default = {}\n",
    "mae_scores_default = {}\n",
    "r2_scores_default = {}\n",
    "max_error_scores_default = {}\n",
    "\n",
    "for method, model in models.items():\n",
    "    print(method)\n",
    "    if method == 'SVR':\n",
    "        index = np.random.randint(0, len(X_train), 5000)\n",
    "        X_train_subset = X_train.iloc[index]\n",
    "        y_train_subset = y_train.iloc[index]\n",
    "        base_model = model.fit(X_train_subset, y_train_subset)\n",
    "    elif method == 'XGBoost':\n",
    "        X_train_xgb = xgboost_data(X_train, categories_for_xgb)\n",
    "        base_model = model.fit(X_train_xgb, y_train)\n",
    "    else:\n",
    "        base_model = model.fit(X_train, y_train)\n",
    "\n",
    "    if method == 'XGBoost':\n",
    "        X_test_xgb = xgboost_data(X_test, categories_for_xgb)\n",
    "        y_pred = base_model.predict(X_test_xgb)\n",
    "    else: \n",
    "        y_pred = base_model.predict(X_test)\n",
    "    \n",
    "    # Calculate metrics correctly with y_test first\n",
    "    mse_scores_default[method] = mean_squared_error(y_test, y_pred)\n",
    "    mae_scores_default[method] = mean_absolute_error(y_test, y_pred)\n",
    "    r2_scores_default[method] = r2_score(y_test, y_pred)\n",
    "    max_error_scores_default[method] = max_error(y_test, y_pred)"
   ]
  },
  {
   "cell_type": "code",
   "execution_count": 30,
   "metadata": {},
   "outputs": [
    {
     "name": "stdout",
     "output_type": "stream",
     "text": [
      "XGBoost\n",
      "CatBoost\n",
      "Random Forest Regressor\n",
      "SVR\n",
      "Gradient Boosting\n",
      "LightGBM\n",
      "Extra Trees Regressor\n"
     ]
    }
   ],
   "source": [
    "models = {\n",
    "    \"XGBoost\": XGBRegressor(enable_categorical=True),\n",
    "    \"CatBoost\": CatBoostRegressor(random_seed=42, verbose=0, cat_features=['time_of_day', 'pickup_cluster', 'dropoff_cluster', 'VendorID', 'RatecodeID','Airport_fee']),\n",
    "    \"Random Forest Regressor\": RandomForestRegressor(random_state=42),\n",
    "    \"SVR\": SVR(),\n",
    "    \"Gradient Boosting\": GradientBoostingRegressor(random_state=42),    \n",
    "    \"LightGBM\": LGBMRegressor(random_state=42, verbose=0),\n",
    "    \"Extra Trees Regressor\": ExtraTreesRegressor(random_state=42)\n",
    "}\n",
    "\n",
    "mse_scores_fe = {}\n",
    "mae_scores_fe = {}\n",
    "r2_scores_fe = {}\n",
    "max_error_scores_fe = {}\n",
    "\n",
    "for method, model in models.items():\n",
    "    print(method)\n",
    "    if method == 'SVR':\n",
    "        index = np.random.randint(0, len(X_tr), 5000)\n",
    "        X_train_subset = X_tr.iloc[index]\n",
    "        y_train_subset = y_tr.iloc[index]\n",
    "        base_model = model.fit(X_train_subset, y_train_subset)\n",
    "    else:\n",
    "        base_model = model.fit(X_tr, y_tr)\n",
    "\n",
    "    y_pred = base_model.predict(X_te)\n",
    "    \n",
    "    # Calculate metrics correctly with y_test first\n",
    "    mse_scores_fe[method] = mean_squared_error(y_te, y_pred)\n",
    "    mae_scores_fe[method] = mean_absolute_error(y_te, y_pred)\n",
    "    r2_scores_fe[method] = r2_score(y_te, y_pred)\n",
    "    max_error_scores_fe[method] = max_error(y_te, y_pred)"
   ]
  },
  {
   "cell_type": "code",
   "execution_count": 31,
   "metadata": {},
   "outputs": [],
   "source": [
    "mse_scores_comp = []\n",
    "for method in list(mse_scores_fe.keys()):\n",
    "    mse_scores_comp.append([mse_scores_default[method], mse_scores_fe[method]])\n",
    "mse_scores_comp = np.array([np.round(list(i),3) for i in mse_scores_comp])"
   ]
  },
  {
   "cell_type": "code",
   "execution_count": 32,
   "metadata": {},
   "outputs": [
    {
     "data": {
      "image/png": "[encoded data removed]",
      "text/plain": [
       "<Figure size 500x250 with 1 Axes>"
      ]
     },
     "metadata": {},
     "output_type": "display_data"
    }
   ],
   "source": [
    "# Plot\n",
    "fig, ax = plt.subplots(figsize=(5, 2.5))\n",
    "ax.axis('off')\n",
    "\n",
    "the_table = ax.table(cellText=mse_scores_comp, colLabels=['No scaling', 'After feature engineering'], rowLabels=list(mse_scores_fe.keys()), loc='center',cellLoc='center')\n",
    "plt.title('Comparaison des erreurs quadratiques moyennes')\n",
    "\n",
    "plt.show()"
   ]
  },
  {
   "cell_type": "code",
   "execution_count": 33,
   "metadata": {},
   "outputs": [
    {
     "data": {
      "text/plain": [
       "Text(0.5, 0, 'Importance')"
      ]
     },
     "execution_count": 33,
     "metadata": {},
     "output_type": "execute_result"
    },
    {
     "data": {
      "image/png": "[encoded data removed]",
      "text/plain": [
       "<Figure size 640x480 with 1 Axes>"
      ]
     },
     "metadata": {},
     "output_type": "display_data"
    }
   ],
   "source": [
    "# Importance des variables lors de l'entrainement sur les donnees feature engineered (uniquement carte bancaire)\n",
    "rfc_model = RandomForestRegressor()\n",
    "rfc_model.fit(X22, y22)\n",
    "imp = rfc_model.feature_importances_\n",
    "forest_imp = pd.Series(imp, index = X22.columns)\n",
    "forest_imp = forest_imp.sort_values(ascending=False)\n",
    "\n",
    "# Plot les importances\n",
    "fig = plt.figure()\n",
    "\n",
    "forest_imp.plot.barh()\n",
    "plt.title('Random Forest Feature Importances')\n",
    "plt.xlabel('Importance')"
   ]
  }
 ],
 "metadata": {
  "kernelspec": {
   "display_name": "m2",
   "language": "python",
   "name": "python3"
  },
  "language_info": {
   "codemirror_mode": {
    "name": "ipython",
    "version": 3
   },
   "file_extension": ".py",
   "mimetype": "text/x-python",
   "name": "python",
   "nbconvert_exporter": "python",
   "pygments_lexer": "ipython3",
   "version": "3.12.7"
  }
 },
 "nbformat": 4,
 "nbformat_minor": 2
}
